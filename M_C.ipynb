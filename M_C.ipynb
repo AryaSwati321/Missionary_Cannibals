{
 "cells": [
  {
   "cell_type": "code",
   "execution_count": null,
   "id": "6896ee93-2d31-4fe1-b108-7c0d664e5824",
   "metadata": {},
   "outputs": [
    {
     "name": "stdout",
     "output_type": "stream",
     "text": [
      "Left Bank:  💂💂💂 \n",
      "Boat:  🚢 \n",
      "Right Bank:   👹👹👹\n",
      "🌊🌊🌊🌊🌊🌊🌊🌊\n",
      "\n",
      "Boat is on the Right side.\n"
     ]
    }
   ],
   "source": [
    "from IPython.display import clear_output\n",
    "\n",
    "boat_side = 'Right'\n",
    "missionaries_on_right = 3\n",
    "cannibals_on_right = 3\n",
    "missionaries_on_left = 0\n",
    "cannibals_on_left = 0\n",
    "\n",
    "def display_status():\n",
    "    print(\"Left Bank: \", '\\U0001f482'*missionaries_on_left, '\\U0001f479'*cannibals_on_left)\n",
    "    print(\"Boat: \", '\\U0001f6A2' if boat_side == 'Right' else '', \" \\U0001f6A2\" if boat_side == 'Left' else '')\n",
    "    print(\"Right Bank: \", '\\U0001f482'*missionaries_on_right, '\\U0001f479'*cannibals_on_right)\n",
    "    print('\\U0001f30a'*8)  # River representation\n",
    "\n",
    "clear_output()\n",
    "display_status()\n",
    "\n",
    "while True:\n",
    "    print(f\"\\nBoat is on the {boat_side} side.\")\n",
    "    \n",
    "    missionaries = int(input('ENTER THE NUMBER OF MISSIONARIES ON BOAT (0-2): '))\n",
    "    cannibals = int(input('ENTER THE NUMBER OF CANNIBALS ON BOAT (0-2): '))\n",
    "\n",
    "    if (missionaries + cannibals) < 1 or (missionaries + cannibals) > 2:\n",
    "        print(\"Invalid Move: The boat must carry 1 or 2 people!\")\n",
    "        continue\n",
    "\n",
    "    if boat_side == 'Right':\n",
    "        if missionaries > missionaries_on_right or cannibals > cannibals_on_right:\n",
    "            print(\"Invalid Move: Not enough people on the right bank!\")\n",
    "            continue\n",
    "        else:\n",
    "            missionaries_on_right -= missionaries\n",
    "            cannibals_on_right -= cannibals\n",
    "            missionaries_on_left += missionaries\n",
    "            cannibals_on_left += cannibals\n",
    "            boat_side = 'Left'\n",
    "\n",
    "    elif boat_side == 'Left':\n",
    "        if missionaries > missionaries_on_left or cannibals > cannibals_on_left:\n",
    "            print(\"Invalid Move: Not enough people on the left bank!\")\n",
    "            continue\n",
    "        else:\n",
    "            missionaries_on_left -= missionaries\n",
    "            cannibals_on_left -= cannibals\n",
    "            missionaries_on_right += missionaries\n",
    "            cannibals_on_right += cannibals\n",
    "            boat_side = 'Right'\n",
    "\n",
    "    clear_output()\n",
    "    display_status()\n",
    "\n",
    "    if (missionaries_on_right < cannibals_on_right and missionaries_on_right > 0) or \\\n",
    "       (missionaries_on_left < cannibals_on_left and missionaries_on_left > 0):\n",
    "        print(\"YOU LOSE! The cannibals outnumbered the missionaries.\")\n",
    "        break\n",
    "\n",
    "    if missionaries_on_left == 3 and cannibals_on_left == 3:\n",
    "        print(\"CONGRATULATIONS! YOU WIN! Everyone is safely across.\")\n",
    "        break\n",
    "\n",
    "print(\"GAME OVER\")\n"
   ]
  },
  {
   "cell_type": "code",
   "execution_count": null,
   "id": "ff8907ac-1d86-4686-b6f8-5dddba50733b",
   "metadata": {},
   "outputs": [],
   "source": []
  }
 ],
 "metadata": {
  "kernelspec": {
   "display_name": "Python 3 (ipykernel)",
   "language": "python",
   "name": "python3"
  },
  "language_info": {
   "codemirror_mode": {
    "name": "ipython",
    "version": 3
   },
   "file_extension": ".py",
   "mimetype": "text/x-python",
   "name": "python",
   "nbconvert_exporter": "python",
   "pygments_lexer": "ipython3",
   "version": "3.13.0"
  }
 },
 "nbformat": 4,
 "nbformat_minor": 5
}
