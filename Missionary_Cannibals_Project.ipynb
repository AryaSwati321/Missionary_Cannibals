{
 "cells": [
  {
   "cell_type": "code",
   "execution_count": 1,
   "id": "48fdd54c-87f2-4fe7-9620-4736fb0ca7a2",
   "metadata": {},
   "outputs": [],
   "source": [
    "boat_side = 'Right'\n",
    "missionaries_on_right = 3\n",
    "cannibals_on_right = 3\n",
    "missionaries_on_left = 0\n",
    "cannibals_on_left = 0"
   ]
  },
  {
   "cell_type": "code",
   "execution_count": 2,
   "id": "ca096bce-da7b-4a1d-bfc4-29cee182f7e4",
   "metadata": {},
   "outputs": [
    {
     "name": "stdout",
     "output_type": "stream",
     "text": [
      "M = 0 C = 0|-----B|M = 3 C = 3\n"
     ]
    }
   ],
   "source": [
    "print('M = '+str(missionaries_on_left) +' C = ' + str(cannibals_on_left) + '|-----B|' + 'M = ' + str(missionaries_on_right) + ' C = ' +str(cannibals_on_right))"
   ]
  },
  {
   "cell_type": "code",
   "execution_count": 3,
   "id": "8bf403ea-6e52-4959-bf72-0b6008935f6a",
   "metadata": {},
   "outputs": [
    {
     "name": "stdin",
     "output_type": "stream",
     "text": [
      "ENTER THE NUMBER OF MISSIONARIES ON BOAT:  3\n",
      "ENTER THE NUMBER OF CANNIBALS ON BOAT:  3\n"
     ]
    }
   ],
   "source": [
    "missionaries = int(input('ENTER THE NUMBER OF MISSIONARIES ON BOAT: '))\n",
    "cannibals = int(input('ENTER THE NUMBER OF CANNIBALS ON BOAT: '))"
   ]
  },
  {
   "cell_type": "code",
   "execution_count": 4,
   "id": "08b7d528-af09-4b16-bd5a-bd2bc6b162f1",
   "metadata": {},
   "outputs": [
    {
     "name": "stdout",
     "output_type": "stream",
     "text": [
      "Invalid Move\n"
     ]
    }
   ],
   "source": [
    "if (missionaries + cannibals)<0 or (missionaries+cannibals)>2:\n",
    "  print('Invalid Move')"
   ]
  },
  {
   "cell_type": "code",
   "execution_count": 5,
   "id": "b5e79d52-fa4a-4428-80f5-45c9723a38e8",
   "metadata": {},
   "outputs": [
    {
     "name": "stdout",
     "output_type": "stream",
     "text": [
      "Right\n"
     ]
    }
   ],
   "source": [
    "if boat_side == 'Right':\n",
    "  print('Right')\n",
    "else:\n",
    "  print('Left')"
   ]
  },
  {
   "cell_type": "code",
   "execution_count": 6,
   "id": "e0bfa368-3d9e-4efc-84ef-16051e7a94eb",
   "metadata": {},
   "outputs": [],
   "source": [
    "if (missionaries_on_right < missionaries) or (cannibals_on_right < cannibals):\n",
    "  print('Invalid Move')"
   ]
  },
  {
   "cell_type": "code",
   "execution_count": 7,
   "id": "59649d3f-1d1e-4217-81a5-d85cde678b6f",
   "metadata": {},
   "outputs": [],
   "source": [
    "cannibals_on_right -= cannibals\n",
    "missionaries_on_right -= missionaries\n",
    "\n",
    "cannibals_on_left += cannibals\n",
    "missionaries_on_left += missionaries"
   ]
  },
  {
   "cell_type": "code",
   "execution_count": 8,
   "id": "1205ba93-def1-4bae-acd7-1a6c7ee1eeab",
   "metadata": {},
   "outputs": [
    {
     "name": "stdout",
     "output_type": "stream",
     "text": [
      "M = 3 C = 3|B-----|M = 0 C = 0\n"
     ]
    }
   ],
   "source": [
    "print('M = '+str(missionaries_on_left) +' C = ' + str(cannibals_on_left) + '|B-----|' + 'M = ' + str(missionaries_on_right) + ' C = ' +str(cannibals_on_right))\n",
    "boat_side = 'Left'"
   ]
  },
  {
   "cell_type": "code",
   "execution_count": 9,
   "id": "25e32d9b-d6a5-43ca-a57f-1c2620421887",
   "metadata": {},
   "outputs": [
    {
     "name": "stdout",
     "output_type": "stream",
     "text": [
      "Left\n"
     ]
    }
   ],
   "source": [
    "if boat_side == 'Left':\n",
    "  print('Left')\n",
    "else:\n",
    "  print('Right')"
   ]
  },
  {
   "cell_type": "code",
   "execution_count": 10,
   "id": "7ccb7933-1670-48cd-8e41-6eb335295169",
   "metadata": {},
   "outputs": [],
   "source": [
    "if (missionaries_on_left < missionaries) or (cannibals_on_left < cannibals):\n",
    "  print('Invalid Move')"
   ]
  },
  {
   "cell_type": "code",
   "execution_count": 11,
   "id": "aee2ed30-b748-40d1-b24e-0f25cc397eb3",
   "metadata": {},
   "outputs": [],
   "source": [
    "cannibals_on_left -= cannibals\n",
    "missionaries_on_left -= missionaries\n",
    "\n",
    "cannibals_on_right += cannibals\n",
    "missionaries_on_right += missionaries"
   ]
  },
  {
   "cell_type": "code",
   "execution_count": 12,
   "id": "d9231dcd-c8f1-4565-ab82-ec7bc3c96204",
   "metadata": {},
   "outputs": [
    {
     "name": "stdout",
     "output_type": "stream",
     "text": [
      "M = 0 C = 0|-----B|M = 3 C = 3\n"
     ]
    }
   ],
   "source": [
    "print('M = '+str(missionaries_on_left) +' C = ' + str(cannibals_on_left) + '|-----B|' + 'M = ' + str(missionaries_on_right) + ' C = ' +str(cannibals_on_right))\n",
    "boat_side = 'Right'"
   ]
  },
  {
   "cell_type": "code",
   "execution_count": 13,
   "id": "d38aea48-a3e3-46c7-8449-7d41587174b4",
   "metadata": {},
   "outputs": [],
   "source": [
    "if ((missionaries_on_right < cannibals_on_right) and (missionaries_on_right > 0)) or ((missionaries_on_left < cannibals_on_left) and (missionaries_on_left > 0)):\n",
    "  print('YOU LOSE')"
   ]
  },
  {
   "cell_type": "code",
   "execution_count": 14,
   "id": "ef7f28e0-39a6-473d-afac-84c669e56026",
   "metadata": {},
   "outputs": [],
   "source": [
    "if (missionaries_on_left and cannibals_on_left) == 3:\n",
    "  print('YOU WIN')"
   ]
  },
  {
   "cell_type": "code",
   "execution_count": null,
   "id": "6f4e28c5-eecd-4747-982d-bb964422f3f2",
   "metadata": {},
   "outputs": [],
   "source": []
  }
 ],
 "metadata": {
  "kernelspec": {
   "display_name": "Python 3 (ipykernel)",
   "language": "python",
   "name": "python3"
  },
  "language_info": {
   "codemirror_mode": {
    "name": "ipython",
    "version": 3
   },
   "file_extension": ".py",
   "mimetype": "text/x-python",
   "name": "python",
   "nbconvert_exporter": "python",
   "pygments_lexer": "ipython3",
   "version": "3.13.0"
  }
 },
 "nbformat": 4,
 "nbformat_minor": 5
}
